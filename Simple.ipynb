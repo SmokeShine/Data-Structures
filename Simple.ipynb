{
 "cells": [
  {
   "cell_type": "code",
   "execution_count": 1,
   "metadata": {},
   "outputs": [],
   "source": [
    "### Arrays\n",
    "\n",
    "# Contains Object\n",
    "# Size\n",
    "# IsEmpty\n",
    "# get\n",
    "# set\n",
    "# add\n",
    "# removeAt\n",
    "# remove\n",
    "# Dynamic Array -\n",
    "# Int to String\n",
    "# Iterator\n",
    "# clear"
   ]
  },
  {
   "cell_type": "code",
   "execution_count": 2,
   "metadata": {},
   "outputs": [],
   "source": [
    "arr=[101,102,103,104,105]"
   ]
  },
  {
   "cell_type": "code",
   "execution_count": 3,
   "metadata": {},
   "outputs": [],
   "source": [
    "class array_operators(object):\n",
    "    def __init__(self,arr_):\n",
    "        self.arr_=arr_\n",
    "        self.length=self.size()\n",
    "    def size(self):\n",
    "        return len(self.arr_)\n",
    "    def contains(self,element):\n",
    "        for i in self.arr_:\n",
    "            if element==i:\n",
    "                return True\n",
    "        return False\n",
    "    def IsEmpty(self):\n",
    "        if self.length==1:\n",
    "            return 1\n",
    "        else:\n",
    "            return 0\n",
    "    def add(self,element):\n",
    "        temp=[0]*(self.length+1)\n",
    "        for i in range(self.length):\n",
    "            temp[i]=self.arr_[i] \n",
    "        temp[i+1]=element\n",
    "        self.arr_=temp\n",
    "        self.length=self.size()\n",
    "    def remove(self,element):\n",
    "        # only one element at a time\n",
    "        temp=[0]*(self.length-1)\n",
    "        z=0\n",
    "        for i in range(self.length-1):\n",
    "            if self.arr_[i]!=element:\n",
    "                temp[z]=self.arr_[i] \n",
    "                z=z+1\n",
    "        self.arr_=temp\n",
    "        self.length=self.size()\n",
    "    def remove_at(self,location):\n",
    "        # only one element at a time\n",
    "        temp=[0]*(self.length-1)\n",
    "        z=0\n",
    "        for i in range(self.length-1):\n",
    "            if i!=location:\n",
    "                temp[z]=self.arr_[i] \n",
    "                z=z+1\n",
    "        self.arr_=temp\n",
    "        self.length=self.size()\n",
    "    def get(self,location):\n",
    "        return self.arr_[location]\n",
    "    def set(self,location,element):\n",
    "        self.arr_[location]=element\n",
    "    def int_to_string(self):\n",
    "        temp=[0]*(self.length)\n",
    "        for i in range(self.length):\n",
    "            temp[i]=str(self.arr_[i])\n",
    "        return temp\n",
    "    def iterator_(self):\n",
    "        for i in self.arr_:\n",
    "            yield i\n",
    "    def clear(self):\n",
    "        for i in range(self.length):\n",
    "            self.arr_[i]=None     \n",
    "        self.length=0\n",
    "        \n",
    "\n"
   ]
  },
  {
   "cell_type": "code",
   "execution_count": 4,
   "metadata": {},
   "outputs": [],
   "source": [
    "array_object=array_operators(arr)\n"
   ]
  },
  {
   "cell_type": "code",
   "execution_count": 5,
   "metadata": {},
   "outputs": [
    {
     "data": {
      "text/plain": [
       "[101, 102, 103, 104, 105, 10]"
      ]
     },
     "execution_count": 5,
     "metadata": {},
     "output_type": "execute_result"
    }
   ],
   "source": [
    "array_object.add(10)\n",
    "array_object.arr_"
   ]
  },
  {
   "cell_type": "code",
   "execution_count": 6,
   "metadata": {},
   "outputs": [
    {
     "data": {
      "text/plain": [
       "True"
      ]
     },
     "execution_count": 6,
     "metadata": {},
     "output_type": "execute_result"
    }
   ],
   "source": [
    "array_object.contains(10)"
   ]
  },
  {
   "cell_type": "code",
   "execution_count": 7,
   "metadata": {},
   "outputs": [
    {
     "data": {
      "text/plain": [
       "6"
      ]
     },
     "execution_count": 7,
     "metadata": {},
     "output_type": "execute_result"
    }
   ],
   "source": [
    "array_object.size()"
   ]
  },
  {
   "cell_type": "code",
   "execution_count": 8,
   "metadata": {},
   "outputs": [
    {
     "data": {
      "text/plain": [
       "6"
      ]
     },
     "execution_count": 8,
     "metadata": {},
     "output_type": "execute_result"
    }
   ],
   "source": [
    "array_object.length"
   ]
  },
  {
   "cell_type": "code",
   "execution_count": 9,
   "metadata": {},
   "outputs": [
    {
     "data": {
      "text/plain": [
       "[101, 102, 103, 104, 105]"
      ]
     },
     "execution_count": 9,
     "metadata": {},
     "output_type": "execute_result"
    }
   ],
   "source": [
    "array_object.remove(10)\n",
    "array_object.arr_"
   ]
  },
  {
   "cell_type": "code",
   "execution_count": 10,
   "metadata": {},
   "outputs": [
    {
     "data": {
      "text/plain": [
       "[101, 102, 103, 104, 105, 10]"
      ]
     },
     "execution_count": 10,
     "metadata": {},
     "output_type": "execute_result"
    }
   ],
   "source": [
    "array_object.add(10)\n",
    "array_object.arr_"
   ]
  },
  {
   "cell_type": "code",
   "execution_count": 11,
   "metadata": {},
   "outputs": [
    {
     "data": {
      "text/plain": [
       "[101, 102, 103, 104, 105]"
      ]
     },
     "execution_count": 11,
     "metadata": {},
     "output_type": "execute_result"
    }
   ],
   "source": [
    "array_object.remove_at(5)\n",
    "array_object.arr_"
   ]
  },
  {
   "cell_type": "code",
   "execution_count": 12,
   "metadata": {},
   "outputs": [
    {
     "data": {
      "text/plain": [
       "5"
      ]
     },
     "execution_count": 12,
     "metadata": {},
     "output_type": "execute_result"
    }
   ],
   "source": [
    "array_object.length"
   ]
  },
  {
   "cell_type": "code",
   "execution_count": 13,
   "metadata": {},
   "outputs": [
    {
     "data": {
      "text/plain": [
       "103"
      ]
     },
     "execution_count": 13,
     "metadata": {},
     "output_type": "execute_result"
    }
   ],
   "source": [
    "array_object.get(2)"
   ]
  },
  {
   "cell_type": "code",
   "execution_count": 14,
   "metadata": {},
   "outputs": [
    {
     "data": {
      "text/plain": [
       "[101, 102, 201, 104, 105]"
      ]
     },
     "execution_count": 14,
     "metadata": {},
     "output_type": "execute_result"
    }
   ],
   "source": [
    "array_object.set(2,201)\n",
    "array_object.arr_"
   ]
  },
  {
   "cell_type": "code",
   "execution_count": 15,
   "metadata": {},
   "outputs": [
    {
     "data": {
      "text/plain": [
       "[101, 102, 103, 104, 105]"
      ]
     },
     "execution_count": 15,
     "metadata": {},
     "output_type": "execute_result"
    }
   ],
   "source": [
    "array_object.set(2,103)\n",
    "array_object.arr_"
   ]
  },
  {
   "cell_type": "code",
   "execution_count": 16,
   "metadata": {},
   "outputs": [
    {
     "data": {
      "text/plain": [
       "['101', '102', '103', '104', '105']"
      ]
     },
     "execution_count": 16,
     "metadata": {},
     "output_type": "execute_result"
    }
   ],
   "source": [
    "array_object.int_to_string()"
   ]
  },
  {
   "cell_type": "code",
   "execution_count": 17,
   "metadata": {},
   "outputs": [
    {
     "data": {
      "text/plain": [
       "<generator object array_operators.iterator_ at 0x7fb040125dd0>"
      ]
     },
     "execution_count": 17,
     "metadata": {},
     "output_type": "execute_result"
    }
   ],
   "source": [
    "array_object.iterator_()"
   ]
  },
  {
   "cell_type": "code",
   "execution_count": 18,
   "metadata": {},
   "outputs": [
    {
     "data": {
      "text/plain": [
       "101"
      ]
     },
     "execution_count": 18,
     "metadata": {},
     "output_type": "execute_result"
    }
   ],
   "source": [
    "next(array_object.iterator_())"
   ]
  },
  {
   "cell_type": "code",
   "execution_count": 19,
   "metadata": {},
   "outputs": [
    {
     "name": "stdout",
     "output_type": "stream",
     "text": [
      "101\n",
      "102\n",
      "103\n",
      "104\n",
      "105\n"
     ]
    }
   ],
   "source": [
    "iterable=array_object.iterator_()\n",
    "for item in iterable:\n",
    "    print(item)"
   ]
  },
  {
   "cell_type": "code",
   "execution_count": 20,
   "metadata": {},
   "outputs": [
    {
     "data": {
      "text/plain": [
       "[None, None, None, None, None]"
      ]
     },
     "execution_count": 20,
     "metadata": {},
     "output_type": "execute_result"
    }
   ],
   "source": [
    "array_object.clear()\n",
    "array_object.arr_"
   ]
  },
  {
   "cell_type": "code",
   "execution_count": 21,
   "metadata": {},
   "outputs": [],
   "source": [
    "# Single and Double Linked List\n",
    "\n",
    "# Insert new elements\n",
    "# remove elements\n",
    "# Add element at start of list\n",
    "# Add element at end of list\n",
    "# length of list\n",
    "# IsEmpty\n",
    "# peekFirst\n",
    "# peekLast\n",
    "# remove head\n",
    "# remove tail\n",
    "# get index\n",
    "# iterator"
   ]
  },
  {
   "cell_type": "code",
   "execution_count": 22,
   "metadata": {},
   "outputs": [],
   "source": [
    "## Single Linked List"
   ]
  },
  {
   "cell_type": "code",
   "execution_count": 23,
   "metadata": {},
   "outputs": [],
   "source": [
    "class linkedlist(object):\n",
    "    class node(object):\n",
    "        def __init__(self,name,value):\n",
    "            self.name=name\n",
    "            self.value=value\n",
    "            self.next=None\n",
    "        def set_next(self,next_obj):\n",
    "            self.next=next_obj\n",
    "        def get_next(self):\n",
    "            return self.next \n",
    "    \n",
    "    def __init__(self):        \n",
    "        self.head=None\n",
    "        self.tail=None\n",
    "        self.size=0\n",
    "    def peek_first(self):\n",
    "        if self.isEmpty():\n",
    "            return -1 \n",
    "        else:\n",
    "            return self.head.name\n",
    "    def get_index(self,name):\n",
    "        if self.isEmpty():\n",
    "            return -1 \n",
    "        start=self.head\n",
    "        i=0\n",
    "        while start!=None:\n",
    "            if start.name==name:\n",
    "                return i\n",
    "            start=start.get_next()\n",
    "            i=i+1\n",
    "    def peek_last(self):\n",
    "        if self.isEmpty():\n",
    "            return -1 \n",
    "        else:\n",
    "            return self.tail.name\n",
    "    def add_node_last(self,name,value):\n",
    "        if self.isEmpty():\n",
    "            self.head=self.node(name,value) \n",
    "            self.tail=self.head\n",
    "        else:\n",
    "            temp=self.node(name,value)\n",
    "            self.tail.set_next(temp)            \n",
    "            self.tail=temp\n",
    "        self.size=self.size+1    \n",
    "    def add_node_first(self,name,value):\n",
    "        if self.isEmpty():\n",
    "            self.head=self.node(name,value) \n",
    "            self.tail=self.head\n",
    "        else:\n",
    "            temp=self.head\n",
    "            self.head=self.node(name,value)\n",
    "            self.head.set_next(temp)\n",
    "        self.size=self.size+1\n",
    "    def size(self):\n",
    "        return self.size\n",
    "    def isEmpty(self):\n",
    "        return True if self.size==0 else False\n",
    "    def clear(self):\n",
    "        self.head=None\n",
    "        self.tail=None\n",
    "        self.size=0            \n",
    "\n",
    "    def print_list(self):\n",
    "        if self.size==0:\n",
    "            return\n",
    "        start=self.head\n",
    "        while start.get_next()!=None:\n",
    "            print(start.name,\"|\",start.value,\">\",end=\" \")\n",
    "            start=start.get_next()\n",
    "        print(start.name,\"|\",start.value,\">\",None)\n",
    "    def remove(self,value):\n",
    "        if self.size==0:\n",
    "            return\n",
    "        start=self.head\n",
    "        i=0\n",
    "        while start.get_next()!=None:\n",
    "            if start.get_next().value==value:\n",
    "                start.set_next(start.get_next().get_next())\n",
    "                i=1\n",
    "            start=start.get_next()\n",
    "        if i!=0:\n",
    "            self.size=self.size-1\n",
    "    def connect(self,from_,to_):\n",
    "        from_.set_next(to_)\n",
    "    def remove_head(self):\n",
    "        if self.size==1:\n",
    "            self.clear()\n",
    "            return\n",
    "\n",
    "        elif self.size!=0:\n",
    "            self.head=self.head.get_next()\n",
    "            self.size=self.size-1\n",
    "    def remove_tail(self):\n",
    "        if self.size==1:\n",
    "            self.clear()\n",
    "            return\n",
    "        elif self.size!=0:\n",
    "            start=self.head\n",
    "            while start.get_next()!=self.tail:\n",
    "                start=start.get_next()\n",
    "            self.tail=start\n",
    "            self.tail.set_next(None)\n",
    "            self.size=self.size-1\n"
   ]
  },
  {
   "cell_type": "code",
   "execution_count": 24,
   "metadata": {},
   "outputs": [],
   "source": [
    "linked_list=linkedlist()"
   ]
  },
  {
   "cell_type": "code",
   "execution_count": 25,
   "metadata": {},
   "outputs": [],
   "source": [
    "linked_list.print_list()"
   ]
  },
  {
   "cell_type": "code",
   "execution_count": 26,
   "metadata": {},
   "outputs": [
    {
     "name": "stdout",
     "output_type": "stream",
     "text": [
      "a | 7 > None\n"
     ]
    }
   ],
   "source": [
    "linked_list.add_node_first(\"a\",7)\n",
    "linked_list.print_list()"
   ]
  },
  {
   "cell_type": "code",
   "execution_count": 27,
   "metadata": {},
   "outputs": [
    {
     "name": "stdout",
     "output_type": "stream",
     "text": [
      "a | 7 > b | 0 > None\n"
     ]
    }
   ],
   "source": [
    "linked_list.add_node_last(\"b\",0)\n",
    "linked_list.print_list()"
   ]
  },
  {
   "cell_type": "code",
   "execution_count": 28,
   "metadata": {},
   "outputs": [
    {
     "name": "stdout",
     "output_type": "stream",
     "text": [
      "a | 7 > b | 0 > c | 4 > None\n"
     ]
    }
   ],
   "source": [
    "linked_list.add_node_last(\"c\",4)\n",
    "linked_list.print_list()"
   ]
  },
  {
   "cell_type": "code",
   "execution_count": 29,
   "metadata": {},
   "outputs": [
    {
     "name": "stdout",
     "output_type": "stream",
     "text": [
      "a | 7 > b | 0 > c | 4 > d | 9 > None\n"
     ]
    }
   ],
   "source": [
    "linked_list.add_node_last(\"d\",9)\n",
    "linked_list.print_list()"
   ]
  },
  {
   "cell_type": "code",
   "execution_count": 30,
   "metadata": {},
   "outputs": [
    {
     "name": "stdout",
     "output_type": "stream",
     "text": [
      "a | 7 > b | 0 > c | 4 > d | 9 > e | 15 > None\n"
     ]
    }
   ],
   "source": [
    "linked_list.add_node_last(\"e\",15)\n",
    "linked_list.print_list()"
   ]
  },
  {
   "cell_type": "code",
   "execution_count": 31,
   "metadata": {},
   "outputs": [
    {
     "name": "stdout",
     "output_type": "stream",
     "text": [
      "2\n"
     ]
    }
   ],
   "source": [
    "print(linked_list.get_index(\"c\"))"
   ]
  },
  {
   "cell_type": "code",
   "execution_count": 32,
   "metadata": {},
   "outputs": [
    {
     "name": "stdout",
     "output_type": "stream",
     "text": [
      "b | 0 > c | 4 > d | 9 > e | 15 > None\n"
     ]
    }
   ],
   "source": [
    "linked_list.remove_head()\n",
    "linked_list.print_list()"
   ]
  },
  {
   "cell_type": "code",
   "execution_count": 33,
   "metadata": {},
   "outputs": [
    {
     "name": "stdout",
     "output_type": "stream",
     "text": [
      "b | 0 > c | 4 > d | 9 > None\n"
     ]
    }
   ],
   "source": [
    "linked_list.remove_tail()\n",
    "linked_list.print_list()"
   ]
  },
  {
   "cell_type": "code",
   "execution_count": 34,
   "metadata": {},
   "outputs": [],
   "source": [
    "# Remove 9 from the linked list"
   ]
  },
  {
   "cell_type": "code",
   "execution_count": 35,
   "metadata": {},
   "outputs": [
    {
     "name": "stdout",
     "output_type": "stream",
     "text": [
      "b | 0 > d | 9 > None\n"
     ]
    }
   ],
   "source": [
    "linked_list.remove(value=4)\n",
    "linked_list.print_list()"
   ]
  },
  {
   "cell_type": "code",
   "execution_count": 36,
   "metadata": {},
   "outputs": [
    {
     "data": {
      "text/plain": [
       "'b'"
      ]
     },
     "execution_count": 36,
     "metadata": {},
     "output_type": "execute_result"
    }
   ],
   "source": [
    "linked_list.peek_first()"
   ]
  },
  {
   "cell_type": "code",
   "execution_count": 37,
   "metadata": {},
   "outputs": [
    {
     "data": {
      "text/plain": [
       "'d'"
      ]
     },
     "execution_count": 37,
     "metadata": {},
     "output_type": "execute_result"
    }
   ],
   "source": [
    "linked_list.peek_last()"
   ]
  },
  {
   "cell_type": "code",
   "execution_count": 38,
   "metadata": {},
   "outputs": [],
   "source": [
    "## Doubly Linked List"
   ]
  },
  {
   "cell_type": "code",
   "execution_count": 39,
   "metadata": {},
   "outputs": [],
   "source": [
    "# class double_node(object):\n",
    "#     def __init__(self,name,value):\n",
    "#         self.name=name\n",
    "#         self.value=value\n",
    "#         self.next=None\n",
    "#         self.previous=None\n",
    "#     def set_next(self,next_obj):\n",
    "#         self.next=next_obj\n",
    "#     def get_next(self):\n",
    "#         return self.next \n",
    "#     def set_previous(self,prev_obj):\n",
    "#         self.previous=prev_obj\n",
    "#     def get_previous(self):\n",
    "#         return self.previous \n"
   ]
  },
  {
   "cell_type": "code",
   "execution_count": 40,
   "metadata": {},
   "outputs": [],
   "source": [
    "class doublylinkedlist(object):\n",
    "    class node(object):\n",
    "        def __init__(self,name,value):\n",
    "            self.name=name\n",
    "            self.value=value\n",
    "            self.next=None\n",
    "            self.previous=None\n",
    "        def set_next(self,next_obj):\n",
    "            self.next=next_obj\n",
    "        def get_next(self):\n",
    "            return self.next \n",
    "        def set_previous(self,prev_obj):\n",
    "            self.previous=prev_obj\n",
    "        def get_previous(self):\n",
    "            return self.previous \n",
    "    \n",
    "    def __init__(self):        \n",
    "        self.head=None\n",
    "        self.tail=None\n",
    "        self.size=0\n",
    "    def peek_first(self):\n",
    "        if self.isEmpty():\n",
    "            return -1 \n",
    "        else:\n",
    "            return self.head.name\n",
    "    def get_index(self,name,flag='front'):\n",
    "        if self.isEmpty():\n",
    "            return -1 \n",
    "        if flag=='front':\n",
    "            start=self.head\n",
    "            i=0\n",
    "            while start!=None:\n",
    "                if start.name==name:\n",
    "                    return i\n",
    "                start=start.get_next()\n",
    "                i=i+1\n",
    "        elif flag=='back':\n",
    "            start=self.tail\n",
    "            i=0\n",
    "            while start!=None:\n",
    "                if start.name==name:\n",
    "                    return i\n",
    "                start=start.get_previous()\n",
    "                i=i+1\n",
    "\n",
    "            \n",
    "    def peek_last(self):\n",
    "        if self.isEmpty():\n",
    "            return -1 \n",
    "        else:\n",
    "            return self.tail.name\n",
    "    def add_node_last(self,name,value):\n",
    "        if self.isEmpty():\n",
    "            self.head=self.node(name,value) \n",
    "            self.tail=self.head\n",
    "        else:\n",
    "            temp=self.node(name,value)\n",
    "            self.tail.set_next(temp)\n",
    "            temp.set_previous(self.tail)\n",
    "            self.tail=temp\n",
    "        self.size=self.size+1    \n",
    "    def add_node_first(self,name,value):\n",
    "        if self.isEmpty():\n",
    "            self.head=self.node(name,value) \n",
    "            self.tail=self.head\n",
    "        else:\n",
    "            temp=self.head\n",
    "            self.head=self.node(name,value)\n",
    "            self.head.set_next(temp)\n",
    "            temp.set_previous(self.head)\n",
    "        self.size=self.size+1\n",
    "    def size(self):\n",
    "        return self.size\n",
    "    def isEmpty(self):\n",
    "        return True if self.size==0 else False\n",
    "    def clear(self):\n",
    "        self.head=None\n",
    "        self.tail=None\n",
    "        self.size=0            \n",
    "\n",
    "    def print_list(self):\n",
    "        if self.size==0:\n",
    "            return\n",
    "        start=self.head\n",
    "        while start.get_next()!=None:\n",
    "            print(start.name,\"|\",start.value,\"<>\",end=\" \")\n",
    "            start=start.get_next()\n",
    "        print(start.name,\"|\",start.value,\"<>\",None)\n",
    "    def remove(self,value):\n",
    "        if self.size==0:\n",
    "            return\n",
    "        start=self.head\n",
    "        i=0\n",
    "        while start.get_next()!=None:\n",
    "            if start.get_next().value==value:\n",
    "                start.set_next(start.get_next().get_next())\n",
    "                start.get_next().get_next().set_previous(start)\n",
    "                i=1\n",
    "            start=start.get_next()\n",
    "        if i!=0:\n",
    "            self.size=self.size-1\n",
    "    def connect(self,from_,to_):\n",
    "        from_.set_next(to_)\n",
    "    def remove_head(self):\n",
    "        if self.size==1:\n",
    "            self.clear()\n",
    "            return\n",
    "\n",
    "        elif self.size!=0:\n",
    "            self.head=self.head.get_next()\n",
    "            self.size=self.size-1\n",
    "    def remove_tail(self):\n",
    "        if self.size==1:\n",
    "            self.clear()\n",
    "            return\n",
    "        elif self.size!=0:\n",
    "            self.tail=self.tail.get_previous()\n",
    "            self.size=self.size-1\n"
   ]
  },
  {
   "cell_type": "code",
   "execution_count": 41,
   "metadata": {},
   "outputs": [],
   "source": [
    "doubly_linked_list=doublylinkedlist()"
   ]
  },
  {
   "cell_type": "code",
   "execution_count": 42,
   "metadata": {},
   "outputs": [],
   "source": [
    "doubly_linked_list.print_list()"
   ]
  },
  {
   "cell_type": "code",
   "execution_count": 43,
   "metadata": {},
   "outputs": [
    {
     "name": "stdout",
     "output_type": "stream",
     "text": [
      "a | 7 <> None\n"
     ]
    }
   ],
   "source": [
    "doubly_linked_list.add_node_first(\"a\",7)\n",
    "doubly_linked_list.print_list()"
   ]
  },
  {
   "cell_type": "code",
   "execution_count": 44,
   "metadata": {},
   "outputs": [
    {
     "name": "stdout",
     "output_type": "stream",
     "text": [
      "a | 7 <> b | 0 <> None\n"
     ]
    }
   ],
   "source": [
    "doubly_linked_list.add_node_last(\"b\",0)\n",
    "doubly_linked_list.print_list()"
   ]
  },
  {
   "cell_type": "code",
   "execution_count": 45,
   "metadata": {},
   "outputs": [
    {
     "name": "stdout",
     "output_type": "stream",
     "text": [
      "a | 7 <> b | 0 <> c | 4 <> None\n"
     ]
    }
   ],
   "source": [
    "doubly_linked_list.add_node_last(\"c\",4)\n",
    "doubly_linked_list.print_list()"
   ]
  },
  {
   "cell_type": "code",
   "execution_count": 46,
   "metadata": {},
   "outputs": [
    {
     "name": "stdout",
     "output_type": "stream",
     "text": [
      "a | 7 <> b | 0 <> c | 4 <> d | 9 <> None\n"
     ]
    }
   ],
   "source": [
    "doubly_linked_list.add_node_last(\"d\",9)\n",
    "doubly_linked_list.print_list()"
   ]
  },
  {
   "cell_type": "code",
   "execution_count": 47,
   "metadata": {},
   "outputs": [
    {
     "name": "stdout",
     "output_type": "stream",
     "text": [
      "a | 7 <> b | 0 <> c | 4 <> d | 9 <> e | 15 <> None\n"
     ]
    }
   ],
   "source": [
    "doubly_linked_list.add_node_last(\"e\",15)\n",
    "doubly_linked_list.print_list()"
   ]
  },
  {
   "cell_type": "code",
   "execution_count": 48,
   "metadata": {},
   "outputs": [
    {
     "name": "stdout",
     "output_type": "stream",
     "text": [
      "2\n"
     ]
    }
   ],
   "source": [
    "print(doubly_linked_list.get_index(\"c\"))"
   ]
  },
  {
   "cell_type": "code",
   "execution_count": 49,
   "metadata": {},
   "outputs": [
    {
     "name": "stdout",
     "output_type": "stream",
     "text": [
      "b | 0 <> c | 4 <> d | 9 <> e | 15 <> None\n"
     ]
    }
   ],
   "source": [
    "doubly_linked_list.remove_head()\n",
    "doubly_linked_list.print_list()"
   ]
  },
  {
   "cell_type": "code",
   "execution_count": 50,
   "metadata": {},
   "outputs": [
    {
     "name": "stdout",
     "output_type": "stream",
     "text": [
      "b | 0 <> c | 4 <> d | 9 <> e | 15 <> None\n"
     ]
    }
   ],
   "source": [
    "doubly_linked_list.remove_tail()\n",
    "doubly_linked_list.print_list()"
   ]
  },
  {
   "cell_type": "code",
   "execution_count": 51,
   "metadata": {},
   "outputs": [
    {
     "name": "stdout",
     "output_type": "stream",
     "text": [
      "b | 0 <> d | 9 <> e | 15 <> None\n"
     ]
    }
   ],
   "source": [
    "doubly_linked_list.remove(value=4)\n",
    "doubly_linked_list.print_list()"
   ]
  },
  {
   "cell_type": "code",
   "execution_count": 52,
   "metadata": {},
   "outputs": [
    {
     "data": {
      "text/plain": [
       "'b'"
      ]
     },
     "execution_count": 52,
     "metadata": {},
     "output_type": "execute_result"
    }
   ],
   "source": [
    "doubly_linked_list.peek_first()"
   ]
  },
  {
   "cell_type": "code",
   "execution_count": 53,
   "metadata": {},
   "outputs": [
    {
     "data": {
      "text/plain": [
       "'d'"
      ]
     },
     "execution_count": 53,
     "metadata": {},
     "output_type": "execute_result"
    }
   ],
   "source": [
    "doubly_linked_list.peek_last()"
   ]
  },
  {
   "cell_type": "code",
   "execution_count": 54,
   "metadata": {},
   "outputs": [],
   "source": [
    "# Stack\n",
    "# push\n",
    "# pop\n",
    "# peek\n",
    "# search\n",
    "# size "
   ]
  },
  {
   "cell_type": "code",
   "execution_count": 55,
   "metadata": {},
   "outputs": [],
   "source": [
    "## Bracket Sequence"
   ]
  },
  {
   "cell_type": "code",
   "execution_count": 56,
   "metadata": {},
   "outputs": [],
   "source": [
    "# Stack with singly linked list"
   ]
  },
  {
   "cell_type": "code",
   "execution_count": 57,
   "metadata": {},
   "outputs": [],
   "source": [
    "class stack(object):\n",
    "    class node(object):\n",
    "        def __init__(self,name,value):\n",
    "            self.name=name\n",
    "            self.value=value\n",
    "            self.next=None\n",
    "        def set_next(self,next_obj):\n",
    "            self.next=next_obj\n",
    "        def get_next(self):\n",
    "            return self.next \n",
    "    def __init__(self):\n",
    "        self.size=0\n",
    "        self.top=None\n",
    "        \n",
    "    def push(self,name,value):\n",
    "        if self.size==0:\n",
    "            self.top=self.node(name,value=None)\n",
    "            self.size=self.size+1\n",
    "        else:\n",
    "            temp=self.top\n",
    "            self.top=self.node(name,value)\n",
    "            self.top.set_next(temp)\n",
    "            self.size=self.size+1\n",
    "    def pop(self):\n",
    "        if self.size==0:\n",
    "            return -1\n",
    "        elif self.size==1:\n",
    "            self.top=None\n",
    "            self.size=0\n",
    "        else:\n",
    "            self.top=self.top.get_next()\n",
    "            self.size=self.size-1\n",
    "    def peek(self):\n",
    "        return self.top.name\n",
    "    def search(self,value):\n",
    "        start=self.top\n",
    "        while start!=None:\n",
    "            if start.name==value:\n",
    "                return self.start.name, self.start.value\n",
    "            start=start.get_next()\n",
    "        return -1\n",
    "    def print_list(self):\n",
    "        start=self.top\n",
    "        while start.get_next()!=None:\n",
    "            print(start.name)\n",
    "            start=start.get_next()\n",
    "        print(start.name)"
   ]
  },
  {
   "cell_type": "code",
   "execution_count": 58,
   "metadata": {},
   "outputs": [],
   "source": [
    "bracket_sequence=stack()"
   ]
  },
  {
   "cell_type": "code",
   "execution_count": 59,
   "metadata": {},
   "outputs": [],
   "source": [
    "bracket_sequence.push(\"[\",None)\n",
    "bracket_sequence.push(\"[\",None)\n",
    "bracket_sequence.push(\"{\",None)\n",
    "bracket_sequence.push(\"}\",None)\n",
    "bracket_sequence.push(\"(\",None)\n",
    "bracket_sequence.push(\")\",None)\n",
    "bracket_sequence.push(\"]\",None)\n"
   ]
  },
  {
   "cell_type": "code",
   "execution_count": 60,
   "metadata": {},
   "outputs": [
    {
     "name": "stdout",
     "output_type": "stream",
     "text": [
      "]\n",
      ")\n",
      "(\n",
      "}\n",
      "{\n",
      "[\n",
      "[\n"
     ]
    }
   ],
   "source": [
    "bracket_sequence.print_list()"
   ]
  },
  {
   "cell_type": "code",
   "execution_count": 61,
   "metadata": {},
   "outputs": [
    {
     "data": {
      "text/plain": [
       "']'"
      ]
     },
     "execution_count": 61,
     "metadata": {},
     "output_type": "execute_result"
    }
   ],
   "source": [
    "bracket_sequence.peek()"
   ]
  },
  {
   "cell_type": "code",
   "execution_count": 62,
   "metadata": {},
   "outputs": [],
   "source": [
    "map_={'[':']',\n",
    "     '{':'}',\n",
    "     '(':')'}"
   ]
  },
  {
   "cell_type": "code",
   "execution_count": 63,
   "metadata": {},
   "outputs": [],
   "source": [
    "def bracket_sequence_check(q):\n",
    "    bracket_sequence=stack()\n",
    "    result= \"valid\"\n",
    "    for i in q:\n",
    "        if i in map_.keys():\n",
    "            bracket_sequence.push(i,None)\n",
    "        elif bracket_sequence.size!=0 and map_[bracket_sequence.peek()]==i:\n",
    "            bracket_sequence.pop()\n",
    "        else:\n",
    "            result= \"Invalid\"\n",
    "    return result"
   ]
  },
  {
   "cell_type": "code",
   "execution_count": 64,
   "metadata": {},
   "outputs": [
    {
     "data": {
      "text/plain": [
       "'valid'"
      ]
     },
     "execution_count": 64,
     "metadata": {},
     "output_type": "execute_result"
    }
   ],
   "source": [
    "bracket_sequence_check(\"[{}]\")"
   ]
  },
  {
   "cell_type": "code",
   "execution_count": 65,
   "metadata": {},
   "outputs": [
    {
     "data": {
      "text/plain": [
       "'valid'"
      ]
     },
     "execution_count": 65,
     "metadata": {},
     "output_type": "execute_result"
    }
   ],
   "source": [
    "bracket_sequence_check(\"(()())\")"
   ]
  },
  {
   "cell_type": "code",
   "execution_count": 66,
   "metadata": {},
   "outputs": [
    {
     "data": {
      "text/plain": [
       "'Invalid'"
      ]
     },
     "execution_count": 66,
     "metadata": {},
     "output_type": "execute_result"
    }
   ],
   "source": [
    "bracket_sequence_check(\"{]\")"
   ]
  },
  {
   "cell_type": "code",
   "execution_count": 67,
   "metadata": {},
   "outputs": [
    {
     "data": {
      "text/plain": [
       "'Invalid'"
      ]
     },
     "execution_count": 67,
     "metadata": {},
     "output_type": "execute_result"
    }
   ],
   "source": [
    "bracket_sequence_check(\"[()]))()\")"
   ]
  },
  {
   "cell_type": "code",
   "execution_count": 68,
   "metadata": {},
   "outputs": [
    {
     "data": {
      "text/plain": [
       "'valid'"
      ]
     },
     "execution_count": 68,
     "metadata": {},
     "output_type": "execute_result"
    }
   ],
   "source": [
    "bracket_sequence_check(\"[]{}({})\")"
   ]
  },
  {
   "cell_type": "code",
   "execution_count": 69,
   "metadata": {},
   "outputs": [
    {
     "data": {
      "text/plain": [
       "'Invalid'"
      ]
     },
     "execution_count": 69,
     "metadata": {},
     "output_type": "execute_result"
    }
   ],
   "source": [
    "bracket_sequence_check(\"[{})[]\")"
   ]
  },
  {
   "cell_type": "code",
   "execution_count": 70,
   "metadata": {},
   "outputs": [],
   "source": [
    "# Tower of Hanoi"
   ]
  },
  {
   "cell_type": "code",
   "execution_count": 71,
   "metadata": {},
   "outputs": [],
   "source": [
    "# Stack with doubly linkedlist\n"
   ]
  },
  {
   "cell_type": "code",
   "execution_count": 72,
   "metadata": {},
   "outputs": [],
   "source": [
    "# Queue\n",
    "\n",
    "# Enqueue\n",
    "# Deque\n",
    "# BFS  "
   ]
  },
  {
   "cell_type": "code",
   "execution_count": 73,
   "metadata": {},
   "outputs": [],
   "source": [
    "class queue(object):\n",
    "    class node(object):\n",
    "        def __init__(self,name,value):\n",
    "            self.name=name\n",
    "            self.value=value\n",
    "            self.next=None\n",
    "            self.visited=False\n",
    "        def set_next(self,next_obj):\n",
    "            self.next=next_obj\n",
    "        def get_next(self):\n",
    "            return self.next \n",
    "    def __init__(self,max_limit):\n",
    "        self.size=0\n",
    "        self.first=None\n",
    "        self.last=None\n",
    "        self.max_limit=max_limit\n",
    "    def enqueue(self,name,value):\n",
    "        if self.size==0:\n",
    "            self.first=self.node(name,value=None)\n",
    "            self.last=self.first\n",
    "            self.size=self.size+1\n",
    "        else:\n",
    "            while self.size>=5:\n",
    "                self.dequeue()\n",
    "            temp=self.node(name,value)\n",
    "            self.last.set_next(temp)\n",
    "            self.last=temp\n",
    "            self.size=self.size+1\n",
    "    def dequeue(self):\n",
    "        if self.size==0:\n",
    "            return -1\n",
    "        elif self.size==1:\n",
    "            self.first=None\n",
    "            self.last=None\n",
    "            self.size=0\n",
    "        else:\n",
    "            self.first=self.first.get_next()\n",
    "            self.size=self.size-1\n",
    "    def peek_first(self):\n",
    "        return self.first.name\n",
    "    def poll(self):\n",
    "        return self.first\n",
    "    def peek_last(self):\n",
    "        return self.last.name\n",
    "    def search(self,value):\n",
    "        start=self.first\n",
    "        while start!=None:\n",
    "            if start.name==value:\n",
    "                return self.start.name, self.start.value\n",
    "            start=start.get_next()\n",
    "        return -1\n",
    "    def print_list(self):\n",
    "        start=self.first\n",
    "        while start.get_next()!=None:\n",
    "            print(start.name)\n",
    "            start=start.get_next()\n",
    "        print(start.name)"
   ]
  },
  {
   "cell_type": "code",
   "execution_count": 74,
   "metadata": {},
   "outputs": [],
   "source": [
    "queue_=queue(5)"
   ]
  },
  {
   "cell_type": "code",
   "execution_count": 75,
   "metadata": {},
   "outputs": [],
   "source": [
    "queue_.enqueue(55,None)\n",
    "queue_.enqueue(-1,None)\n",
    "queue_.enqueue(33,None)\n",
    "queue_.enqueue(17,None)\n",
    "queue_.enqueue(11,None)"
   ]
  },
  {
   "cell_type": "code",
   "execution_count": 76,
   "metadata": {},
   "outputs": [
    {
     "data": {
      "text/plain": [
       "55"
      ]
     },
     "execution_count": 76,
     "metadata": {},
     "output_type": "execute_result"
    }
   ],
   "source": [
    "queue_.peek_first()"
   ]
  },
  {
   "cell_type": "code",
   "execution_count": 77,
   "metadata": {},
   "outputs": [
    {
     "data": {
      "text/plain": [
       "11"
      ]
     },
     "execution_count": 77,
     "metadata": {},
     "output_type": "execute_result"
    }
   ],
   "source": [
    "queue_.peek_last()"
   ]
  },
  {
   "cell_type": "code",
   "execution_count": 78,
   "metadata": {},
   "outputs": [
    {
     "data": {
      "text/plain": [
       "-1"
      ]
     },
     "execution_count": 78,
     "metadata": {},
     "output_type": "execute_result"
    }
   ],
   "source": [
    "queue_.first.get_next().name"
   ]
  },
  {
   "cell_type": "code",
   "execution_count": 79,
   "metadata": {},
   "outputs": [
    {
     "data": {
      "text/plain": [
       "5"
      ]
     },
     "execution_count": 79,
     "metadata": {},
     "output_type": "execute_result"
    }
   ],
   "source": [
    "queue_.size"
   ]
  },
  {
   "cell_type": "code",
   "execution_count": 80,
   "metadata": {},
   "outputs": [
    {
     "name": "stdout",
     "output_type": "stream",
     "text": [
      "55\n",
      "-1\n",
      "33\n",
      "17\n",
      "11\n"
     ]
    }
   ],
   "source": [
    "queue_.print_list()"
   ]
  },
  {
   "cell_type": "code",
   "execution_count": 81,
   "metadata": {},
   "outputs": [],
   "source": [
    "queue_.enqueue(12,None)"
   ]
  },
  {
   "cell_type": "code",
   "execution_count": 82,
   "metadata": {},
   "outputs": [
    {
     "name": "stdout",
     "output_type": "stream",
     "text": [
      "-1\n",
      "33\n",
      "17\n",
      "11\n",
      "12\n"
     ]
    }
   ],
   "source": [
    "queue_.print_list()"
   ]
  },
  {
   "cell_type": "code",
   "execution_count": 83,
   "metadata": {},
   "outputs": [
    {
     "data": {
      "text/plain": [
       "5"
      ]
     },
     "execution_count": 83,
     "metadata": {},
     "output_type": "execute_result"
    }
   ],
   "source": [
    "queue_.size"
   ]
  },
  {
   "cell_type": "code",
   "execution_count": 84,
   "metadata": {},
   "outputs": [],
   "source": [
    "# BFS"
   ]
  },
  {
   "cell_type": "code",
   "execution_count": 295,
   "metadata": {},
   "outputs": [],
   "source": [
    "class SimpleGraph(object):\n",
    "    class vertex(object):\n",
    "        def __init__(self,value):\n",
    "            self.value=value\n",
    "            self.neighbours=[]\n",
    "            self.neighbours_count=0\n",
    "            self.visited=False\n",
    "            self.distance=0\n",
    "            self.previous=None\n",
    "        def set_neighbour(self,next_obj):\n",
    "            self.neighbours.append(next_obj)\n",
    "            self.neighbours_count=self.neighbours_count+1\n",
    "        def get_neighbours(self):\n",
    "            return self.neighbours\n",
    "        def is_connected(self,obj):\n",
    "            return obj in self.neighbours\n",
    "    def __init__(self):\n",
    "        self.count_vertex=0\n",
    "        self.count_edges=0\n",
    "        self.count_levels=0\n",
    "        self.nodes=[]\n",
    "        self.root=None\n",
    "    def set_root(self,obj):\n",
    "        if obj in self.nodes:\n",
    "            self.root=obj\n",
    "            \n",
    "    def add_node(self,value):\n",
    "        temp=self.vertex(value)\n",
    "        if self.count_vertex==0:\n",
    "            self.root=temp\n",
    "            self.nodes.append(temp)\n",
    "        else:\n",
    "            self.nodes.append(temp)\n",
    "        return temp\n",
    "    def connect_node(self,obj1,obj2):\n",
    "        if obj1 in self.nodes and obj2 in self.nodes:\n",
    "            obj1.set_neighbour(obj2)\n",
    "            obj2.set_neighbour(obj1)\n",
    "\n",
    "    def remove_node(self,obj):\n",
    "        if count_vertex==0:\n",
    "            self.root=obj\n",
    "        else:\n",
    "            self.nodes.append(obj)\n",
    "        pass\n",
    "    def neighbours_in_graph(self,obj):\n",
    "        return [neighbour.value for neighbour in obj.neighbours]\n",
    "    def get_all_nodes(self):\n",
    "        return [node for node in self.nodes]\n",
    "    def clear_graph(self):\n",
    "        self.count_vertex=0\n",
    "        self.count_edges=0\n",
    "        self.count_levels=0\n",
    "        self.nodes=[]\n",
    "        self.root=None        "
   ]
  },
  {
   "cell_type": "code",
   "execution_count": 315,
   "metadata": {},
   "outputs": [],
   "source": [
    "graph=SimpleGraph()"
   ]
  },
  {
   "cell_type": "code",
   "execution_count": 316,
   "metadata": {},
   "outputs": [],
   "source": [
    "node0=graph.add_node(0)\n",
    "node1=graph.add_node(1)\n",
    "node9=graph.add_node(9)\n",
    "node8=graph.add_node(8)\n",
    "node7=graph.add_node(7)\n",
    "node10=graph.add_node(10)\n",
    "node11=graph.add_node(11)\n",
    "node6=graph.add_node(6)\n",
    "node5=graph.add_node(5)\n",
    "node3=graph.add_node(3)\n",
    "node2=graph.add_node(2)\n",
    "node4=graph.add_node(4)\n",
    "node12=graph.add_node(12)"
   ]
  },
  {
   "cell_type": "code",
   "execution_count": 317,
   "metadata": {},
   "outputs": [],
   "source": [
    "graph.connect_node(node0,node1)\n",
    "graph.connect_node(node0,node9)\n",
    "graph.connect_node(node1,node8)\n",
    "graph.connect_node(node9,node8)\n",
    "graph.connect_node(node8,node7)\n",
    "graph.connect_node(node7,node10)\n",
    "graph.connect_node(node7,node11)\n",
    "graph.connect_node(node7,node6)\n",
    "graph.connect_node(node6,node5)\n",
    "graph.connect_node(node7,node3)\n",
    "graph.connect_node(node3,node2)\n",
    "graph.connect_node(node3,node4)"
   ]
  },
  {
   "cell_type": "code",
   "execution_count": 318,
   "metadata": {},
   "outputs": [
    {
     "name": "stdout",
     "output_type": "stream",
     "text": [
      "******\n",
      "Neighbours for node 0\n",
      "[1, 9]\n",
      "******\n",
      "Neighbours for node 1\n",
      "[0, 8]\n",
      "******\n",
      "Neighbours for node 9\n",
      "[0, 8]\n",
      "******\n",
      "Neighbours for node 8\n",
      "[1, 9, 7]\n",
      "******\n",
      "Neighbours for node 7\n",
      "[8, 10, 11, 6, 3]\n",
      "******\n",
      "Neighbours for node 10\n",
      "[7]\n",
      "******\n",
      "Neighbours for node 11\n",
      "[7]\n",
      "******\n",
      "Neighbours for node 6\n",
      "[7, 5]\n",
      "******\n",
      "Neighbours for node 5\n",
      "[6]\n",
      "******\n",
      "Neighbours for node 3\n",
      "[7, 2, 4]\n",
      "******\n",
      "Neighbours for node 2\n",
      "[3]\n",
      "******\n",
      "Neighbours for node 4\n",
      "[3]\n",
      "******\n",
      "Neighbours for node 12\n",
      "[]\n"
     ]
    }
   ],
   "source": [
    "for node in graph.get_all_nodes():\n",
    "    print(\"******\")\n",
    "    print(f\"Neighbours for node {node.value}\")\n",
    "    print(graph.neighbours_in_graph(node))"
   ]
  },
  {
   "cell_type": "code",
   "execution_count": 319,
   "metadata": {},
   "outputs": [],
   "source": [
    "from collections import deque\n",
    "import pdb\n",
    "def BFS(source,destination):\n",
    "    queue_=deque()\n",
    "    queue_.append(source)\n",
    "\n",
    "    start=source\n",
    "    path=[]\n",
    "\n",
    "    while start!=destination:\n",
    "        print(\"***********\")\n",
    "        start=queue_[0]\n",
    "        if start.visited==False:\n",
    "            queue_.popleft()\n",
    "            print(f\"pop {start.value} from queue\")\n",
    "            start.visited=True\n",
    "            for x in start.neighbours:\n",
    "                if x.visited==False and x not in queue_:\n",
    "                    print(f\"pushed {x.value} to queue\")\n",
    "                    x.distance=start.distance+1 #IMP Step\n",
    "                    queue_.append(x)\n",
    "\n",
    "    print(\"Reached Destination\")\n",
    "    return destination.distance"
   ]
  },
  {
   "cell_type": "code",
   "execution_count": 320,
   "metadata": {
    "scrolled": false
   },
   "outputs": [
    {
     "name": "stdout",
     "output_type": "stream",
     "text": [
      "***********\n",
      "pop 0 from queue\n",
      "pushed 1 to queue\n",
      "pushed 9 to queue\n",
      "***********\n",
      "pop 1 from queue\n",
      "pushed 8 to queue\n",
      "***********\n",
      "pop 9 from queue\n",
      "***********\n",
      "pop 8 from queue\n",
      "pushed 7 to queue\n",
      "***********\n",
      "pop 7 from queue\n",
      "pushed 10 to queue\n",
      "pushed 11 to queue\n",
      "pushed 6 to queue\n",
      "pushed 3 to queue\n",
      "Reached Destination\n"
     ]
    },
    {
     "data": {
      "text/plain": [
       "3"
      ]
     },
     "execution_count": 320,
     "metadata": {},
     "output_type": "execute_result"
    }
   ],
   "source": [
    "BFS(source=node0,destination=node7)"
   ]
  },
  {
   "cell_type": "code",
   "execution_count": null,
   "metadata": {},
   "outputs": [],
   "source": [
    "# Priority Queue\n",
    "\n",
    "# Min priority queue\n",
    "# max priority queue\n",
    "# sinking \n",
    "# swimming\n",
    "# add elements\n",
    "# poll - remove elements "
   ]
  },
  {
   "cell_type": "code",
   "execution_count": 325,
   "metadata": {},
   "outputs": [],
   "source": [
    "# Binary Heap\n",
    "class binaryheap(object):\n",
    "    def __init__(self):\n",
    "        self.arr=[]\n",
    "        self.root=None\n",
    "    def set_root(self,obj):\n",
    "        self.root=obj        \n",
    "    def add_child(self,parent,child):\n",
    "        #check left or right\n",
    "        pass\n",
    "    def remove(self,obj):\n",
    "        # find where the object is\n",
    "        # delete\n",
    "        pass\n",
    "    def remove_childen(self,obj):\n",
    "        # find where the object is\n",
    "        # delete\n",
    "        pass    \n",
    "    def show_children(self,obj):\n",
    "        pass\n",
    "    def show_left_child(self,obj):\n",
    "        pass\n",
    "    def show_right_child(self,obj):\n",
    "        pass\n",
    "    def show_parent(self,obj):\n",
    "        pass\n",
    "    def polling(self):\n",
    "        pass\n",
    "            "
   ]
  },
  {
   "cell_type": "code",
   "execution_count": 326,
   "metadata": {},
   "outputs": [],
   "source": [
    "binary_heap=binaryheap()"
   ]
  },
  {
   "cell_type": "code",
   "execution_count": null,
   "metadata": {},
   "outputs": [],
   "source": [
    "# Dijkstra\n",
    "# Huffman Code\n",
    "# Minimum spanning tree"
   ]
  },
  {
   "cell_type": "code",
   "execution_count": null,
   "metadata": {},
   "outputs": [],
   "source": [
    "# Binary Heap\n",
    "# polling\n",
    "# peak\n",
    "# adding\n",
    "# naive removing\n",
    "# advanced removing with help from a hash table\n",
    "# naive contains\n",
    "# contains check with help of hash table\n"
   ]
  },
  {
   "cell_type": "code",
   "execution_count": null,
   "metadata": {},
   "outputs": [],
   "source": [
    "# Turning min pq to max pq \n"
   ]
  },
  {
   "cell_type": "code",
   "execution_count": null,
   "metadata": {},
   "outputs": [],
   "source": [
    "# Binary heap"
   ]
  },
  {
   "cell_type": "code",
   "execution_count": null,
   "metadata": {},
   "outputs": [],
   "source": [
    "# Fibonacci Heap"
   ]
  },
  {
   "cell_type": "code",
   "execution_count": null,
   "metadata": {},
   "outputs": [],
   "source": [
    "# Binomial Heap"
   ]
  },
  {
   "cell_type": "code",
   "execution_count": null,
   "metadata": {},
   "outputs": [],
   "source": [
    "# Pairing Heap"
   ]
  }
 ],
 "metadata": {
  "kernelspec": {
   "display_name": "Python 3.7.7 64-bit ('fsdl': conda)",
   "language": "python",
   "name": "python37764bitfsdlconda42a39a0a76c6472e9e0fb574b9bfa83d"
  },
  "language_info": {
   "codemirror_mode": {
    "name": "ipython",
    "version": 3
   },
   "file_extension": ".py",
   "mimetype": "text/x-python",
   "name": "python",
   "nbconvert_exporter": "python",
   "pygments_lexer": "ipython3",
   "version": "3.7.7"
  }
 },
 "nbformat": 4,
 "nbformat_minor": 2
}
