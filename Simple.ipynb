{
 "cells": [
  {
   "cell_type": "code",
   "execution_count": 1,
   "metadata": {},
   "outputs": [],
   "source": [
    "### Arrays\n",
    "\n",
    "# Contains Object\n",
    "# Size\n",
    "# IsEmpty\n",
    "# get\n",
    "# set\n",
    "# add\n",
    "# removeAt\n",
    "# remove\n",
    "# Dynamic Array -\n",
    "# Int to String\n",
    "# Iterator"
   ]
  },
  {
   "cell_type": "code",
   "execution_count": 2,
   "metadata": {},
   "outputs": [],
   "source": [
    "arr=[101,102,103,104,105]"
   ]
  },
  {
   "cell_type": "code",
   "execution_count": 3,
   "metadata": {},
   "outputs": [],
   "source": [
    "class array_operators(object):\n",
    "    def __init__(self,arr_):\n",
    "        self.arr_=arr_\n",
    "    def size(self):\n",
    "        i=0\n",
    "        while (self.arr_[i]!=self.arr_[-1]):\n",
    "            i=i+1\n",
    "        return i+1\n",
    "    def contains(self,element):\n",
    "        for i in self.arr_:\n",
    "            if element==i:\n",
    "                return True\n",
    "        return False\n",
    "    def IsEmpty(self):\n",
    "        if self.size()==1:\n",
    "            return 1\n",
    "        else:\n",
    "            return 0\n",
    "    def add(self,element):\n",
    "        temp=[0]*(self.size()+1)\n",
    "        for i in range(len(self.arr_)):\n",
    "            temp[i]=self.arr_[i] \n",
    "        temp[self.size()]=element\n",
    "        self.arr_=temp\n",
    "    def remove(self,element):\n",
    "        # only one element at a time\n",
    "        temp=[0]*(self.size()-1)\n",
    "        z=0\n",
    "        for i in range(len(self.arr_)):\n",
    "            if self.arr_[i]!=element:\n",
    "                temp[z]=self.arr_[i] \n",
    "                z=z+1\n",
    "        self.arr_=temp\n",
    "    def remove_at(self,location):\n",
    "        # only one element at a time\n",
    "        temp=[0]*(self.size()-1)\n",
    "        z=0\n",
    "        for i in range(self.size()):\n",
    "            if i!=location:\n",
    "                temp[z]=self.arr_[i] \n",
    "                z=z+1\n",
    "        self.arr_=temp\n",
    "    def get(self,location):\n",
    "        return self.arr_[location]\n",
    "    def set(self,location,element):\n",
    "        self.arr_[location]=element\n",
    "    def int_to_string(self):\n",
    "        temp=[0]*self.size()\n",
    "        for i in range(self.size()):\n",
    "            temp[i]=str(self.arr_[i])\n",
    "        return temp\n",
    "    def iterator_(self):\n",
    "        for i in self.arr_:\n",
    "            yield i\n",
    "        \n",
    "        \n",
    "\n"
   ]
  },
  {
   "cell_type": "code",
   "execution_count": 4,
   "metadata": {},
   "outputs": [],
   "source": [
    "array_object=array_operators(arr)\n"
   ]
  },
  {
   "cell_type": "code",
   "execution_count": 5,
   "metadata": {},
   "outputs": [
    {
     "data": {
      "text/plain": [
       "[101, 102, 103, 104, 105, 10]"
      ]
     },
     "execution_count": 5,
     "metadata": {},
     "output_type": "execute_result"
    }
   ],
   "source": [
    "array_object.add(10)\n",
    "array_object.arr_"
   ]
  },
  {
   "cell_type": "code",
   "execution_count": 6,
   "metadata": {},
   "outputs": [
    {
     "data": {
      "text/plain": [
       "True"
      ]
     },
     "execution_count": 6,
     "metadata": {},
     "output_type": "execute_result"
    }
   ],
   "source": [
    "array_object.contains(10)"
   ]
  },
  {
   "cell_type": "code",
   "execution_count": 7,
   "metadata": {},
   "outputs": [
    {
     "data": {
      "text/plain": [
       "[101, 102, 103, 104, 105]"
      ]
     },
     "execution_count": 7,
     "metadata": {},
     "output_type": "execute_result"
    }
   ],
   "source": [
    "array_object.remove(10)\n",
    "array_object.arr_"
   ]
  },
  {
   "cell_type": "code",
   "execution_count": 8,
   "metadata": {},
   "outputs": [
    {
     "data": {
      "text/plain": [
       "[101, 102, 103, 104, 105, 10]"
      ]
     },
     "execution_count": 8,
     "metadata": {},
     "output_type": "execute_result"
    }
   ],
   "source": [
    "array_object.add(10)\n",
    "array_object.arr_"
   ]
  },
  {
   "cell_type": "code",
   "execution_count": 9,
   "metadata": {},
   "outputs": [
    {
     "data": {
      "text/plain": [
       "[101, 102, 103, 104, 105]"
      ]
     },
     "execution_count": 9,
     "metadata": {},
     "output_type": "execute_result"
    }
   ],
   "source": [
    "array_object.remove_at(5)\n",
    "array_object.arr_"
   ]
  },
  {
   "cell_type": "code",
   "execution_count": 10,
   "metadata": {},
   "outputs": [
    {
     "data": {
      "text/plain": [
       "103"
      ]
     },
     "execution_count": 10,
     "metadata": {},
     "output_type": "execute_result"
    }
   ],
   "source": [
    "array_object.get(2)"
   ]
  },
  {
   "cell_type": "code",
   "execution_count": 11,
   "metadata": {},
   "outputs": [
    {
     "data": {
      "text/plain": [
       "[101, 102, 201, 104, 105]"
      ]
     },
     "execution_count": 11,
     "metadata": {},
     "output_type": "execute_result"
    }
   ],
   "source": [
    "array_object.set(2,201)\n",
    "array_object.arr_"
   ]
  },
  {
   "cell_type": "code",
   "execution_count": 12,
   "metadata": {},
   "outputs": [
    {
     "data": {
      "text/plain": [
       "[101, 102, 103, 104, 105]"
      ]
     },
     "execution_count": 12,
     "metadata": {},
     "output_type": "execute_result"
    }
   ],
   "source": [
    "array_object.set(2,103)\n",
    "array_object.arr_"
   ]
  },
  {
   "cell_type": "code",
   "execution_count": 13,
   "metadata": {},
   "outputs": [
    {
     "data": {
      "text/plain": [
       "['101', '102', '103', '104', '105']"
      ]
     },
     "execution_count": 13,
     "metadata": {},
     "output_type": "execute_result"
    }
   ],
   "source": [
    "array_object.int_to_string()"
   ]
  },
  {
   "cell_type": "code",
   "execution_count": 14,
   "metadata": {},
   "outputs": [
    {
     "data": {
      "text/plain": [
       "<generator object array_operators.iterator_ at 0x7f32641b32d0>"
      ]
     },
     "execution_count": 14,
     "metadata": {},
     "output_type": "execute_result"
    }
   ],
   "source": [
    "array_object.iterator_()"
   ]
  },
  {
   "cell_type": "code",
   "execution_count": 15,
   "metadata": {},
   "outputs": [
    {
     "data": {
      "text/plain": [
       "101"
      ]
     },
     "execution_count": 15,
     "metadata": {},
     "output_type": "execute_result"
    }
   ],
   "source": [
    "next(array_object.iterator_())"
   ]
  },
  {
   "cell_type": "code",
   "execution_count": 16,
   "metadata": {},
   "outputs": [
    {
     "name": "stdout",
     "output_type": "stream",
     "text": [
      "101\n",
      "102\n",
      "103\n",
      "104\n",
      "105\n"
     ]
    }
   ],
   "source": [
    "iterable=array_object.iterator_()\n",
    "for item in iterable:\n",
    "    print(item)"
   ]
  }
 ],
 "metadata": {
  "kernelspec": {
   "display_name": "Python 3.7.7 64-bit ('fsdl': conda)",
   "language": "python",
   "name": "python37764bitfsdlconda42a39a0a76c6472e9e0fb574b9bfa83d"
  },
  "language_info": {
   "codemirror_mode": {
    "name": "ipython",
    "version": 3
   },
   "file_extension": ".py",
   "mimetype": "text/x-python",
   "name": "python",
   "nbconvert_exporter": "python",
   "pygments_lexer": "ipython3",
   "version": "3.7.7"
  }
 },
 "nbformat": 4,
 "nbformat_minor": 2
}
