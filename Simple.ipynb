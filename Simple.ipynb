{
 "cells": [
  {
   "cell_type": "code",
   "execution_count": 1,
   "metadata": {},
   "outputs": [],
   "source": [
    "### Arrays\n",
    "\n",
    "# Contains Object\n",
    "# Size\n",
    "# IsEmpty\n",
    "# get\n",
    "# set\n",
    "# add\n",
    "# removeAt\n",
    "# remove\n",
    "# Dynamic Array -\n",
    "# Int to String\n",
    "# Iterator\n",
    "# clear"
   ]
  },
  {
   "cell_type": "code",
   "execution_count": 2,
   "metadata": {},
   "outputs": [],
   "source": [
    "arr=[101,102,103,104,105]"
   ]
  },
  {
   "cell_type": "code",
   "execution_count": 3,
   "metadata": {},
   "outputs": [],
   "source": [
    "class array_operators(object):\n",
    "    def __init__(self,arr_):\n",
    "        self.arr_=arr_\n",
    "        self.length=self.size()\n",
    "    def size(self):\n",
    "        return len(self.arr_)\n",
    "    def contains(self,element):\n",
    "        for i in self.arr_:\n",
    "            if element==i:\n",
    "                return True\n",
    "        return False\n",
    "    def IsEmpty(self):\n",
    "        if self.length==1:\n",
    "            return 1\n",
    "        else:\n",
    "            return 0\n",
    "    def add(self,element):\n",
    "        temp=[0]*(self.length+1)\n",
    "        for i in range(self.length):\n",
    "            temp[i]=self.arr_[i] \n",
    "        temp[i+1]=element\n",
    "        self.arr_=temp\n",
    "        self.length=self.size()\n",
    "    def remove(self,element):\n",
    "        # only one element at a time\n",
    "        temp=[0]*(self.length-1)\n",
    "        z=0\n",
    "        for i in range(self.length-1):\n",
    "            if self.arr_[i]!=element:\n",
    "                temp[z]=self.arr_[i] \n",
    "                z=z+1\n",
    "        self.arr_=temp\n",
    "        self.length=self.size()\n",
    "    def remove_at(self,location):\n",
    "        # only one element at a time\n",
    "        temp=[0]*(self.length-1)\n",
    "        z=0\n",
    "        for i in range(self.length-1):\n",
    "            if i!=location:\n",
    "                temp[z]=self.arr_[i] \n",
    "                z=z+1\n",
    "        self.arr_=temp\n",
    "        self.length=self.size()\n",
    "    def get(self,location):\n",
    "        return self.arr_[location]\n",
    "    def set(self,location,element):\n",
    "        self.arr_[location]=element\n",
    "    def int_to_string(self):\n",
    "        temp=[0]*(self.length)\n",
    "        for i in range(self.length):\n",
    "            temp[i]=str(self.arr_[i])\n",
    "        return temp\n",
    "    def iterator_(self):\n",
    "        for i in self.arr_:\n",
    "            yield i\n",
    "    def clear(self):\n",
    "        for i in range(self.length):\n",
    "            self.arr_[i]=None     \n",
    "        self.length=0\n",
    "        \n",
    "\n"
   ]
  },
  {
   "cell_type": "code",
   "execution_count": 4,
   "metadata": {},
   "outputs": [],
   "source": [
    "array_object=array_operators(arr)\n"
   ]
  },
  {
   "cell_type": "code",
   "execution_count": 5,
   "metadata": {},
   "outputs": [
    {
     "data": {
      "text/plain": [
       "[101, 102, 103, 104, 105, 10]"
      ]
     },
     "execution_count": 5,
     "metadata": {},
     "output_type": "execute_result"
    }
   ],
   "source": [
    "array_object.add(10)\n",
    "array_object.arr_"
   ]
  },
  {
   "cell_type": "code",
   "execution_count": 6,
   "metadata": {},
   "outputs": [
    {
     "data": {
      "text/plain": [
       "True"
      ]
     },
     "execution_count": 6,
     "metadata": {},
     "output_type": "execute_result"
    }
   ],
   "source": [
    "array_object.contains(10)"
   ]
  },
  {
   "cell_type": "code",
   "execution_count": 7,
   "metadata": {},
   "outputs": [
    {
     "data": {
      "text/plain": [
       "6"
      ]
     },
     "execution_count": 7,
     "metadata": {},
     "output_type": "execute_result"
    }
   ],
   "source": [
    "array_object.size()"
   ]
  },
  {
   "cell_type": "code",
   "execution_count": 8,
   "metadata": {},
   "outputs": [
    {
     "data": {
      "text/plain": [
       "6"
      ]
     },
     "execution_count": 8,
     "metadata": {},
     "output_type": "execute_result"
    }
   ],
   "source": [
    "array_object.length"
   ]
  },
  {
   "cell_type": "code",
   "execution_count": 9,
   "metadata": {},
   "outputs": [
    {
     "data": {
      "text/plain": [
       "[101, 102, 103, 104, 105]"
      ]
     },
     "execution_count": 9,
     "metadata": {},
     "output_type": "execute_result"
    }
   ],
   "source": [
    "array_object.remove(10)\n",
    "array_object.arr_"
   ]
  },
  {
   "cell_type": "code",
   "execution_count": 10,
   "metadata": {},
   "outputs": [
    {
     "data": {
      "text/plain": [
       "[101, 102, 103, 104, 105, 10]"
      ]
     },
     "execution_count": 10,
     "metadata": {},
     "output_type": "execute_result"
    }
   ],
   "source": [
    "array_object.add(10)\n",
    "array_object.arr_"
   ]
  },
  {
   "cell_type": "code",
   "execution_count": 11,
   "metadata": {},
   "outputs": [
    {
     "data": {
      "text/plain": [
       "[101, 102, 103, 104, 105]"
      ]
     },
     "execution_count": 11,
     "metadata": {},
     "output_type": "execute_result"
    }
   ],
   "source": [
    "array_object.remove_at(5)\n",
    "array_object.arr_"
   ]
  },
  {
   "cell_type": "code",
   "execution_count": 12,
   "metadata": {},
   "outputs": [
    {
     "data": {
      "text/plain": [
       "5"
      ]
     },
     "execution_count": 12,
     "metadata": {},
     "output_type": "execute_result"
    }
   ],
   "source": [
    "array_object.length"
   ]
  },
  {
   "cell_type": "code",
   "execution_count": 13,
   "metadata": {},
   "outputs": [
    {
     "data": {
      "text/plain": [
       "103"
      ]
     },
     "execution_count": 13,
     "metadata": {},
     "output_type": "execute_result"
    }
   ],
   "source": [
    "array_object.get(2)"
   ]
  },
  {
   "cell_type": "code",
   "execution_count": 14,
   "metadata": {},
   "outputs": [
    {
     "data": {
      "text/plain": [
       "[101, 102, 201, 104, 105]"
      ]
     },
     "execution_count": 14,
     "metadata": {},
     "output_type": "execute_result"
    }
   ],
   "source": [
    "array_object.set(2,201)\n",
    "array_object.arr_"
   ]
  },
  {
   "cell_type": "code",
   "execution_count": 15,
   "metadata": {},
   "outputs": [
    {
     "data": {
      "text/plain": [
       "[101, 102, 103, 104, 105]"
      ]
     },
     "execution_count": 15,
     "metadata": {},
     "output_type": "execute_result"
    }
   ],
   "source": [
    "array_object.set(2,103)\n",
    "array_object.arr_"
   ]
  },
  {
   "cell_type": "code",
   "execution_count": 16,
   "metadata": {},
   "outputs": [
    {
     "data": {
      "text/plain": [
       "['101', '102', '103', '104', '105']"
      ]
     },
     "execution_count": 16,
     "metadata": {},
     "output_type": "execute_result"
    }
   ],
   "source": [
    "array_object.int_to_string()"
   ]
  },
  {
   "cell_type": "code",
   "execution_count": 17,
   "metadata": {},
   "outputs": [
    {
     "data": {
      "text/plain": [
       "<generator object array_operators.iterator_ at 0x7fa718601c50>"
      ]
     },
     "execution_count": 17,
     "metadata": {},
     "output_type": "execute_result"
    }
   ],
   "source": [
    "array_object.iterator_()"
   ]
  },
  {
   "cell_type": "code",
   "execution_count": 18,
   "metadata": {},
   "outputs": [
    {
     "data": {
      "text/plain": [
       "101"
      ]
     },
     "execution_count": 18,
     "metadata": {},
     "output_type": "execute_result"
    }
   ],
   "source": [
    "next(array_object.iterator_())"
   ]
  },
  {
   "cell_type": "code",
   "execution_count": 19,
   "metadata": {},
   "outputs": [
    {
     "name": "stdout",
     "output_type": "stream",
     "text": [
      "101\n",
      "102\n",
      "103\n",
      "104\n",
      "105\n"
     ]
    }
   ],
   "source": [
    "iterable=array_object.iterator_()\n",
    "for item in iterable:\n",
    "    print(item)"
   ]
  },
  {
   "cell_type": "code",
   "execution_count": 20,
   "metadata": {},
   "outputs": [
    {
     "data": {
      "text/plain": [
       "[None, None, None, None, None]"
      ]
     },
     "execution_count": 20,
     "metadata": {},
     "output_type": "execute_result"
    }
   ],
   "source": [
    "array_object.clear()\n",
    "array_object.arr_"
   ]
  },
  {
   "cell_type": "code",
   "execution_count": 21,
   "metadata": {},
   "outputs": [],
   "source": [
    "# Single and Double Linked List\n",
    "\n",
    "# Insert new elements\n",
    "# remove elements\n",
    "# Add element at start of list\n",
    "# Add element at end of list\n",
    "# length of list\n",
    "# IsEmpty\n",
    "# peekFirst\n",
    "# peekLast\n",
    "# remove head\n",
    "# remove tail\n",
    "# get index\n",
    "# iterator"
   ]
  },
  {
   "cell_type": "code",
   "execution_count": 22,
   "metadata": {},
   "outputs": [],
   "source": [
    "## Single Linked List"
   ]
  },
  {
   "cell_type": "code",
   "execution_count": 23,
   "metadata": {},
   "outputs": [],
   "source": [
    "class linkedlist(object):\n",
    "    class node(object):\n",
    "        def __init__(self,name,value):\n",
    "            self.name=name\n",
    "            self.value=value\n",
    "            self.next=None\n",
    "        def set_next(self,next_obj):\n",
    "            self.next=next_obj\n",
    "        def get_next(self):\n",
    "            return self.next \n",
    "    \n",
    "    def __init__(self):        \n",
    "        self.head=None\n",
    "        self.tail=None\n",
    "        self.size=0\n",
    "    def peek_first(self):\n",
    "        if self.isEmpty():\n",
    "            return -1 \n",
    "        else:\n",
    "            return self.head.name\n",
    "    def get_index(self,name):\n",
    "        if self.isEmpty():\n",
    "            return -1 \n",
    "        start=self.head\n",
    "        i=0\n",
    "        while start!=None:\n",
    "            if start.name==name:\n",
    "                return i\n",
    "            start=start.get_next()\n",
    "            i=i+1\n",
    "    def peek_last(self):\n",
    "        if self.isEmpty():\n",
    "            return -1 \n",
    "        else:\n",
    "            return self.tail.name\n",
    "    def add_node_last(self,name,value):\n",
    "        if self.isEmpty():\n",
    "            self.head=self.node(name,value) \n",
    "            self.tail=self.head\n",
    "        else:\n",
    "            temp=self.node(name,value)\n",
    "            self.tail.set_next(temp)            \n",
    "            self.tail=temp\n",
    "        self.size=self.size+1    \n",
    "    def add_node_first(self,name,value):\n",
    "        if self.isEmpty():\n",
    "            self.head=self.node(name,value) \n",
    "            self.tail=self.head\n",
    "        else:\n",
    "            temp=self.head\n",
    "            self.head=self.node(name,value)\n",
    "            self.head.set_next(temp)\n",
    "        self.size=self.size+1\n",
    "    def size(self):\n",
    "        return self.size\n",
    "    def isEmpty(self):\n",
    "        return True if self.size==0 else False\n",
    "    def clear(self):\n",
    "        self.head=None\n",
    "        self.tail=None\n",
    "        self.size=0            \n",
    "\n",
    "    def print_list(self):\n",
    "        if self.size==0:\n",
    "            return\n",
    "        start=self.head\n",
    "        while start.get_next()!=None:\n",
    "            print(start.name,\"|\",start.value,\">\",end=\" \")\n",
    "            start=start.get_next()\n",
    "        print(start.name,\"|\",start.value,\">\",None)\n",
    "    def remove(self,value):\n",
    "        if self.size==0:\n",
    "            return\n",
    "        start=self.head\n",
    "        i=0\n",
    "        while start.get_next()!=None:\n",
    "            if start.get_next().value==value:\n",
    "                start.set_next(start.get_next().get_next())\n",
    "                i=1\n",
    "            start=start.get_next()\n",
    "        if i!=0:\n",
    "            self.size=self.size-1\n",
    "    def connect(self,from_,to_):\n",
    "        from_.set_next(to_)\n",
    "    def remove_head(self):\n",
    "        if self.size==1:\n",
    "            self.clear()\n",
    "            return\n",
    "\n",
    "        elif self.size!=0:\n",
    "            self.head=self.head.get_next()\n",
    "            self.size=self.size-1\n",
    "    def remove_tail(self):\n",
    "        if self.size==1:\n",
    "            self.clear()\n",
    "            return\n",
    "        elif self.size!=0:\n",
    "            start=self.head\n",
    "            while start.get_next()!=self.tail:\n",
    "                start=start.get_next()\n",
    "            self.tail=start\n",
    "            self.tail.set_next(None)\n",
    "            self.size=self.size-1\n"
   ]
  },
  {
   "cell_type": "code",
   "execution_count": 24,
   "metadata": {},
   "outputs": [],
   "source": [
    "linked_list=linkedlist()"
   ]
  },
  {
   "cell_type": "code",
   "execution_count": 25,
   "metadata": {},
   "outputs": [],
   "source": [
    "linked_list.print_list()"
   ]
  },
  {
   "cell_type": "code",
   "execution_count": 26,
   "metadata": {},
   "outputs": [
    {
     "name": "stdout",
     "output_type": "stream",
     "text": [
      "a | 7 > None\n"
     ]
    }
   ],
   "source": [
    "linked_list.add_node_first(\"a\",7)\n",
    "linked_list.print_list()"
   ]
  },
  {
   "cell_type": "code",
   "execution_count": 27,
   "metadata": {},
   "outputs": [
    {
     "name": "stdout",
     "output_type": "stream",
     "text": [
      "a | 7 > b | 0 > None\n"
     ]
    }
   ],
   "source": [
    "linked_list.add_node_last(\"b\",0)\n",
    "linked_list.print_list()"
   ]
  },
  {
   "cell_type": "code",
   "execution_count": 28,
   "metadata": {},
   "outputs": [
    {
     "name": "stdout",
     "output_type": "stream",
     "text": [
      "a | 7 > b | 0 > c | 4 > None\n"
     ]
    }
   ],
   "source": [
    "linked_list.add_node_last(\"c\",4)\n",
    "linked_list.print_list()"
   ]
  },
  {
   "cell_type": "code",
   "execution_count": 29,
   "metadata": {},
   "outputs": [
    {
     "name": "stdout",
     "output_type": "stream",
     "text": [
      "a | 7 > b | 0 > c | 4 > d | 9 > None\n"
     ]
    }
   ],
   "source": [
    "linked_list.add_node_last(\"d\",9)\n",
    "linked_list.print_list()"
   ]
  },
  {
   "cell_type": "code",
   "execution_count": 30,
   "metadata": {},
   "outputs": [
    {
     "name": "stdout",
     "output_type": "stream",
     "text": [
      "a | 7 > b | 0 > c | 4 > d | 9 > e | 15 > None\n"
     ]
    }
   ],
   "source": [
    "linked_list.add_node_last(\"e\",15)\n",
    "linked_list.print_list()"
   ]
  },
  {
   "cell_type": "code",
   "execution_count": 31,
   "metadata": {},
   "outputs": [
    {
     "name": "stdout",
     "output_type": "stream",
     "text": [
      "2\n"
     ]
    }
   ],
   "source": [
    "print(linked_list.get_index(\"c\"))"
   ]
  },
  {
   "cell_type": "code",
   "execution_count": 32,
   "metadata": {},
   "outputs": [
    {
     "name": "stdout",
     "output_type": "stream",
     "text": [
      "b | 0 > c | 4 > d | 9 > e | 15 > None\n"
     ]
    }
   ],
   "source": [
    "linked_list.remove_head()\n",
    "linked_list.print_list()"
   ]
  },
  {
   "cell_type": "code",
   "execution_count": 33,
   "metadata": {},
   "outputs": [
    {
     "name": "stdout",
     "output_type": "stream",
     "text": [
      "b | 0 > c | 4 > d | 9 > None\n"
     ]
    }
   ],
   "source": [
    "linked_list.remove_tail()\n",
    "linked_list.print_list()"
   ]
  },
  {
   "cell_type": "code",
   "execution_count": 34,
   "metadata": {},
   "outputs": [],
   "source": [
    "# Remove 9 from the linked list"
   ]
  },
  {
   "cell_type": "code",
   "execution_count": 35,
   "metadata": {},
   "outputs": [
    {
     "name": "stdout",
     "output_type": "stream",
     "text": [
      "b | 0 > d | 9 > None\n"
     ]
    }
   ],
   "source": [
    "linked_list.remove(value=4)\n",
    "linked_list.print_list()"
   ]
  },
  {
   "cell_type": "code",
   "execution_count": 36,
   "metadata": {},
   "outputs": [
    {
     "data": {
      "text/plain": [
       "'b'"
      ]
     },
     "execution_count": 36,
     "metadata": {},
     "output_type": "execute_result"
    }
   ],
   "source": [
    "linked_list.peek_first()"
   ]
  },
  {
   "cell_type": "code",
   "execution_count": 37,
   "metadata": {},
   "outputs": [
    {
     "data": {
      "text/plain": [
       "'d'"
      ]
     },
     "execution_count": 37,
     "metadata": {},
     "output_type": "execute_result"
    }
   ],
   "source": [
    "linked_list.peek_last()"
   ]
  },
  {
   "cell_type": "code",
   "execution_count": 38,
   "metadata": {},
   "outputs": [],
   "source": [
    "## Doubly Linked List"
   ]
  },
  {
   "cell_type": "code",
   "execution_count": 39,
   "metadata": {},
   "outputs": [],
   "source": [
    "class double_node(object):\n",
    "    def __init__(self,name,value):\n",
    "        self.name=name\n",
    "        self.value=value\n",
    "        self.next=None\n",
    "        self.previous=None\n",
    "    def set_next(self,next_obj):\n",
    "        self.next=next_obj\n",
    "    def get_next(self):\n",
    "        return self.next \n",
    "    def set_previous(self,prev_obj):\n",
    "        self.previous=prev_obj\n",
    "    def get_previous(self):\n",
    "        return self.previous \n"
   ]
  },
  {
   "cell_type": "code",
   "execution_count": 40,
   "metadata": {},
   "outputs": [],
   "source": [
    "class doubly_linkedlist(object):\n",
    "    def __init__(self,head,tail):\n",
    "        self.head=head\n",
    "        self.tail=tail\n",
    "    def print_list(self):\n",
    "        start=self.head\n",
    "        while start.get_next()!=None:\n",
    "            print(start.name,\"|\",start.value,\"<>\",end=\" \")\n",
    "            start=start.get_next()\n",
    "        print(start.name,\"|\",start.value,\"<>\",None)\n",
    "    def remove(self,obj):\n",
    "        start=self.head\n",
    "        while start.get_next()!=None:\n",
    "            if start.get_next()==obj:\n",
    "                start.set_next(start.get_next().get_next())\n",
    "                obj.get_next().set_previous(start)\n",
    "                obj=None\n",
    "            start=start.get_next()\n",
    "    def connect(self,from_,to_):\n",
    "        from_.set_next(to_)\n",
    "        to_.set_previous(from_)\n",
    "    def remove_head(self):\n",
    "        self.head=self.head.get_next()\n",
    "        self.head.set_previous(None)\n",
    "    def remove_tail(self):\n",
    "        self.tail=self.tail.get_previous()\n",
    "        self.tail.set_next(None)"
   ]
  },
  {
   "cell_type": "code",
   "execution_count": 41,
   "metadata": {},
   "outputs": [],
   "source": [
    "a=double_node(\"a\",7)\n",
    "b=double_node(\"b\",0)\n",
    "c=double_node(\"c\",4)\n",
    "d=double_node(\"d\",9)\n",
    "e=double_node(\"e\",15)\n"
   ]
  },
  {
   "cell_type": "code",
   "execution_count": 42,
   "metadata": {},
   "outputs": [],
   "source": [
    "doubly_linked_list=doubly_linkedlist(a,e)\n",
    "doubly_linked_list.connect(a,b)\n",
    "doubly_linked_list.connect(b,c)\n",
    "doubly_linked_list.connect(c,d)\n",
    "doubly_linked_list.connect(d,e)\n"
   ]
  },
  {
   "cell_type": "code",
   "execution_count": 43,
   "metadata": {},
   "outputs": [
    {
     "name": "stdout",
     "output_type": "stream",
     "text": [
      "a | 7 <> b | 0 <> c | 4 <> d | 9 <> e | 15 <> None\n"
     ]
    }
   ],
   "source": [
    "doubly_linked_list.print_list()"
   ]
  },
  {
   "cell_type": "code",
   "execution_count": 44,
   "metadata": {},
   "outputs": [],
   "source": [
    "doubly_linked_list.remove(d)"
   ]
  },
  {
   "cell_type": "code",
   "execution_count": 45,
   "metadata": {},
   "outputs": [
    {
     "name": "stdout",
     "output_type": "stream",
     "text": [
      "a | 7 <> b | 0 <> c | 4 <> e | 15 <> None\n"
     ]
    }
   ],
   "source": [
    "doubly_linked_list.print_list()"
   ]
  },
  {
   "cell_type": "code",
   "execution_count": 46,
   "metadata": {},
   "outputs": [],
   "source": [
    "# Remove head and tail"
   ]
  },
  {
   "cell_type": "code",
   "execution_count": 47,
   "metadata": {},
   "outputs": [],
   "source": [
    "doubly_linked_list=doubly_linkedlist(a,e)\n",
    "doubly_linked_list.connect(a,b)\n",
    "doubly_linked_list.connect(b,c)\n",
    "doubly_linked_list.connect(c,d)\n",
    "doubly_linked_list.connect(d,e)\n"
   ]
  },
  {
   "cell_type": "code",
   "execution_count": 48,
   "metadata": {},
   "outputs": [
    {
     "name": "stdout",
     "output_type": "stream",
     "text": [
      "b | 0 <> c | 4 <> d | 9 <> e | 15 <> None\n"
     ]
    }
   ],
   "source": [
    "doubly_linked_list.remove_head()\n",
    "doubly_linked_list.print_list()"
   ]
  },
  {
   "cell_type": "code",
   "execution_count": 49,
   "metadata": {},
   "outputs": [
    {
     "name": "stdout",
     "output_type": "stream",
     "text": [
      "b | 0 <> c | 4 <> d | 9 <> None\n"
     ]
    }
   ],
   "source": [
    "doubly_linked_list.remove_tail()\n",
    "doubly_linked_list.print_list()"
   ]
  },
  {
   "cell_type": "code",
   "execution_count": 50,
   "metadata": {},
   "outputs": [],
   "source": [
    "# Stack\n",
    "# push\n",
    "# pop\n",
    "# peek\n",
    "# search\n",
    "# size "
   ]
  },
  {
   "cell_type": "code",
   "execution_count": 51,
   "metadata": {},
   "outputs": [],
   "source": [
    "## Bracket Sequence"
   ]
  },
  {
   "cell_type": "code",
   "execution_count": null,
   "metadata": {},
   "outputs": [],
   "source": [
    "# Stack with singly linked list"
   ]
  },
  {
   "cell_type": "code",
   "execution_count": 144,
   "metadata": {},
   "outputs": [],
   "source": [
    "class stack(object):\n",
    "    class node(object):\n",
    "        def __init__(self,name,value):\n",
    "            self.name=name\n",
    "            self.value=value\n",
    "            self.next=None\n",
    "        def set_next(self,next_obj):\n",
    "            self.next=next_obj\n",
    "        def get_next(self):\n",
    "            return self.next \n",
    "    def __init__(self):\n",
    "        self.size=0\n",
    "        self.top=None\n",
    "        \n",
    "    def push(self,name,value):\n",
    "        if self.size==0:\n",
    "            self.top=self.node(name,value=None)\n",
    "            self.size=self.size+1\n",
    "        else:\n",
    "            temp=self.top\n",
    "            self.top=self.node(name,value)\n",
    "            self.top.set_next(temp)\n",
    "            self.size=self.size+1\n",
    "    def pop(self):\n",
    "        if self.size==0:\n",
    "            return -1\n",
    "        elif self.size==1:\n",
    "            self.top=None\n",
    "            self.size=0\n",
    "        else:\n",
    "            self.top=self.top.get_next()\n",
    "            self.size=self.size-1\n",
    "    def peek(self):\n",
    "        return self.top.name\n",
    "    def search(self,value):\n",
    "        start=self.top\n",
    "        while start!=None:\n",
    "            if start.name==value:\n",
    "                return self.start.name, self.start.value\n",
    "            start=start.get_next()\n",
    "        return -1\n",
    "    def print_list(self):\n",
    "        start=self.top\n",
    "        while start.get_next()!=None:\n",
    "            print(start.name)\n",
    "            start=start.get_next()\n",
    "        print(start.name)"
   ]
  },
  {
   "cell_type": "code",
   "execution_count": 145,
   "metadata": {},
   "outputs": [],
   "source": [
    "bracket_sequence=stack()"
   ]
  },
  {
   "cell_type": "code",
   "execution_count": 146,
   "metadata": {},
   "outputs": [],
   "source": [
    "bracket_sequence.push(\"[\",None)\n",
    "bracket_sequence.push(\"[\",None)\n",
    "bracket_sequence.push(\"{\",None)\n",
    "bracket_sequence.push(\"}\",None)\n",
    "bracket_sequence.push(\"(\",None)\n",
    "bracket_sequence.push(\")\",None)\n",
    "bracket_sequence.push(\"]\",None)\n"
   ]
  },
  {
   "cell_type": "code",
   "execution_count": 149,
   "metadata": {},
   "outputs": [
    {
     "name": "stdout",
     "output_type": "stream",
     "text": [
      "]\n",
      ")\n",
      "(\n",
      "}\n",
      "{\n",
      "[\n",
      "[\n"
     ]
    }
   ],
   "source": [
    "bracket_sequence.print_list()"
   ]
  },
  {
   "cell_type": "code",
   "execution_count": 150,
   "metadata": {},
   "outputs": [
    {
     "data": {
      "text/plain": [
       "']'"
      ]
     },
     "execution_count": 150,
     "metadata": {},
     "output_type": "execute_result"
    }
   ],
   "source": [
    "bracket_sequence.peek()"
   ]
  },
  {
   "cell_type": "code",
   "execution_count": 202,
   "metadata": {},
   "outputs": [],
   "source": [
    "map_={'[':']',\n",
    "     '{':'}',\n",
    "     '(':')'}"
   ]
  },
  {
   "cell_type": "code",
   "execution_count": 209,
   "metadata": {},
   "outputs": [],
   "source": [
    "def bracket_sequence_check(q):\n",
    "    bracket_sequence=stack()\n",
    "    result= \"valid\"\n",
    "    for i in q:\n",
    "        if i in map_.keys():\n",
    "            bracket_sequence.push(i,None)\n",
    "        elif bracket_sequence.size!=0 and map_[bracket_sequence.peek()]==i:\n",
    "            bracket_sequence.pop()\n",
    "        else:\n",
    "            result= \"Invalid\"\n",
    "    return result"
   ]
  },
  {
   "cell_type": "code",
   "execution_count": 214,
   "metadata": {},
   "outputs": [
    {
     "data": {
      "text/plain": [
       "'valid'"
      ]
     },
     "execution_count": 214,
     "metadata": {},
     "output_type": "execute_result"
    }
   ],
   "source": [
    "bracket_sequence_check(\"[{}]\")"
   ]
  },
  {
   "cell_type": "code",
   "execution_count": 215,
   "metadata": {},
   "outputs": [
    {
     "data": {
      "text/plain": [
       "'valid'"
      ]
     },
     "execution_count": 215,
     "metadata": {},
     "output_type": "execute_result"
    }
   ],
   "source": [
    "bracket_sequence_check(\"(()())\")"
   ]
  },
  {
   "cell_type": "code",
   "execution_count": 216,
   "metadata": {},
   "outputs": [
    {
     "data": {
      "text/plain": [
       "'Invalid'"
      ]
     },
     "execution_count": 216,
     "metadata": {},
     "output_type": "execute_result"
    }
   ],
   "source": [
    "bracket_sequence_check(\"{]\")"
   ]
  },
  {
   "cell_type": "code",
   "execution_count": 217,
   "metadata": {},
   "outputs": [
    {
     "data": {
      "text/plain": [
       "'Invalid'"
      ]
     },
     "execution_count": 217,
     "metadata": {},
     "output_type": "execute_result"
    }
   ],
   "source": [
    "bracket_sequence_check(\"[()]))()\")"
   ]
  },
  {
   "cell_type": "code",
   "execution_count": 218,
   "metadata": {},
   "outputs": [
    {
     "data": {
      "text/plain": [
       "'valid'"
      ]
     },
     "execution_count": 218,
     "metadata": {},
     "output_type": "execute_result"
    }
   ],
   "source": [
    "bracket_sequence_check(\"[]{}({})\")"
   ]
  },
  {
   "cell_type": "code",
   "execution_count": 219,
   "metadata": {},
   "outputs": [
    {
     "data": {
      "text/plain": [
       "'Invalid'"
      ]
     },
     "execution_count": 219,
     "metadata": {},
     "output_type": "execute_result"
    }
   ],
   "source": [
    "bracket_sequence_check(\"[{})[]\")"
   ]
  },
  {
   "cell_type": "code",
   "execution_count": null,
   "metadata": {},
   "outputs": [],
   "source": [
    "# Tower of Hanoi"
   ]
  },
  {
   "cell_type": "code",
   "execution_count": null,
   "metadata": {},
   "outputs": [],
   "source": [
    "# Stack with doubly linkedlist\n"
   ]
  },
  {
   "cell_type": "code",
   "execution_count": null,
   "metadata": {},
   "outputs": [],
   "source": [
    "# Queue\n",
    "\n",
    "# Enqueue\n",
    "# Deque\n",
    "# BFS  "
   ]
  },
  {
   "cell_type": "code",
   "execution_count": 266,
   "metadata": {},
   "outputs": [],
   "source": [
    "class queue(object):\n",
    "    class node(object):\n",
    "        def __init__(self,name,value):\n",
    "            self.name=name\n",
    "            self.value=value\n",
    "            self.next=None\n",
    "        def set_next(self,next_obj):\n",
    "            self.next=next_obj\n",
    "        def get_next(self):\n",
    "            return self.next \n",
    "    def __init__(self,max_limit):\n",
    "        self.size=0\n",
    "        self.first=None\n",
    "        self.last=None\n",
    "        self.max_limit=max_limit\n",
    "    def enqueue(self,name,value):\n",
    "        if self.size==0:\n",
    "            self.first=self.node(name,value=None)\n",
    "            self.last=self.first\n",
    "            self.size=self.size+1\n",
    "        else:\n",
    "            while self.size>=5:\n",
    "                self.dequeue()\n",
    "            temp=self.node(name,value)\n",
    "            self.last.set_next(temp)\n",
    "            self.last=temp\n",
    "            self.size=self.size+1\n",
    "    def dequeue(self):\n",
    "        if self.size==0:\n",
    "            return -1\n",
    "        elif self.size==1:\n",
    "            self.first=None\n",
    "            self.last=None\n",
    "            self.size=0\n",
    "        else:\n",
    "            self.first=self.first.get_next()\n",
    "            self.size=self.size-1\n",
    "    def peek_first(self):\n",
    "        return self.first.name\n",
    "    def peek_last(self):\n",
    "        return self.last.name\n",
    "    def search(self,value):\n",
    "        start=self.first\n",
    "        while start!=None:\n",
    "            if start.name==value:\n",
    "                return self.start.name, self.start.value\n",
    "            start=start.get_next()\n",
    "        return -1\n",
    "    def print_list(self):\n",
    "        start=self.first\n",
    "        while start.get_next()!=None:\n",
    "            print(start.name)\n",
    "            start=start.get_next()\n",
    "        print(start.name)"
   ]
  },
  {
   "cell_type": "code",
   "execution_count": 267,
   "metadata": {},
   "outputs": [],
   "source": [
    "queue_=queue(5)"
   ]
  },
  {
   "cell_type": "code",
   "execution_count": 268,
   "metadata": {},
   "outputs": [],
   "source": [
    "queue_.enqueue(55,None)\n",
    "queue_.enqueue(-1,None)\n",
    "queue_.enqueue(33,None)\n",
    "queue_.enqueue(17,None)\n",
    "queue_.enqueue(11,None)"
   ]
  },
  {
   "cell_type": "code",
   "execution_count": 269,
   "metadata": {},
   "outputs": [
    {
     "data": {
      "text/plain": [
       "55"
      ]
     },
     "execution_count": 269,
     "metadata": {},
     "output_type": "execute_result"
    }
   ],
   "source": [
    "queue_.peek_first()"
   ]
  },
  {
   "cell_type": "code",
   "execution_count": 270,
   "metadata": {},
   "outputs": [
    {
     "data": {
      "text/plain": [
       "11"
      ]
     },
     "execution_count": 270,
     "metadata": {},
     "output_type": "execute_result"
    }
   ],
   "source": [
    "queue_.peek_last()"
   ]
  },
  {
   "cell_type": "code",
   "execution_count": 271,
   "metadata": {},
   "outputs": [
    {
     "data": {
      "text/plain": [
       "-1"
      ]
     },
     "execution_count": 271,
     "metadata": {},
     "output_type": "execute_result"
    }
   ],
   "source": [
    "queue_.first.get_next().name"
   ]
  },
  {
   "cell_type": "code",
   "execution_count": 272,
   "metadata": {},
   "outputs": [
    {
     "data": {
      "text/plain": [
       "5"
      ]
     },
     "execution_count": 272,
     "metadata": {},
     "output_type": "execute_result"
    }
   ],
   "source": [
    "queue_.size"
   ]
  },
  {
   "cell_type": "code",
   "execution_count": 273,
   "metadata": {},
   "outputs": [
    {
     "name": "stdout",
     "output_type": "stream",
     "text": [
      "55\n",
      "-1\n",
      "33\n",
      "17\n",
      "11\n"
     ]
    }
   ],
   "source": [
    "queue_.print_list()"
   ]
  },
  {
   "cell_type": "code",
   "execution_count": 274,
   "metadata": {},
   "outputs": [],
   "source": [
    "queue_.enqueue(12,None)"
   ]
  },
  {
   "cell_type": "code",
   "execution_count": 275,
   "metadata": {},
   "outputs": [
    {
     "name": "stdout",
     "output_type": "stream",
     "text": [
      "-1\n",
      "33\n",
      "17\n",
      "11\n",
      "12\n"
     ]
    }
   ],
   "source": [
    "queue_.print_list()"
   ]
  },
  {
   "cell_type": "code",
   "execution_count": 276,
   "metadata": {},
   "outputs": [
    {
     "data": {
      "text/plain": [
       "5"
      ]
     },
     "execution_count": 276,
     "metadata": {},
     "output_type": "execute_result"
    }
   ],
   "source": [
    "queue_.size"
   ]
  },
  {
   "cell_type": "code",
   "execution_count": null,
   "metadata": {},
   "outputs": [],
   "source": [
    "# BFS"
   ]
  },
  {
   "cell_type": "code",
   "execution_count": null,
   "metadata": {},
   "outputs": [],
   "source": [
    "class BFSGraph(object):\n",
    "    class vertex(object):\n",
    "        def __init__(self,name,value):\n",
    "            self.name=name\n",
    "            self.value=value\n",
    "            self.neighbour=None\n",
    "        def set_neighbour(self,next_obj):\n",
    "            self.neighbour=next_obj\n",
    "        def get_neighbour(self):\n",
    "            return self.neighbour \n",
    "    def __init__(self):\n",
    "        self.count_vertex=0\n",
    "        self.count_edges=0\n",
    "        self.root=None\n",
    "    def add_neighbour(self):\n",
    "        pass \n",
    "    def remove_neighbour(self):\n",
    "        pass\n",
    "    def get_neighbour(self):\n",
    "        pass"
   ]
  },
  {
   "cell_type": "code",
   "execution_count": null,
   "metadata": {},
   "outputs": [],
   "source": [
    "# Priority Queue\n",
    "\n",
    "# Min priority queue\n",
    "# max priority queue\n",
    "# sinking \n",
    "# swimming\n",
    "# add elements\n",
    "# poll - remove elements "
   ]
  },
  {
   "cell_type": "code",
   "execution_count": null,
   "metadata": {},
   "outputs": [],
   "source": [
    "# Dijkstra\n",
    "# Huffman Code\n",
    "# Minimum spanning tree"
   ]
  },
  {
   "cell_type": "code",
   "execution_count": null,
   "metadata": {},
   "outputs": [],
   "source": [
    "# Binary Heap\n",
    "# polling\n",
    "# peak\n",
    "# adding\n",
    "# naive removing\n",
    "# advanced removing with help from a hash table\n",
    "# naive contains\n",
    "# contains check with help of hash table\n"
   ]
  },
  {
   "cell_type": "code",
   "execution_count": null,
   "metadata": {},
   "outputs": [],
   "source": [
    "# Turning min pq to max pq \n"
   ]
  },
  {
   "cell_type": "code",
   "execution_count": 277,
   "metadata": {},
   "outputs": [],
   "source": [
    "# Binary heap"
   ]
  },
  {
   "cell_type": "code",
   "execution_count": null,
   "metadata": {},
   "outputs": [],
   "source": [
    "# Fibonacci Heap"
   ]
  },
  {
   "cell_type": "code",
   "execution_count": null,
   "metadata": {},
   "outputs": [],
   "source": [
    "# Binomial Heap"
   ]
  },
  {
   "cell_type": "code",
   "execution_count": null,
   "metadata": {},
   "outputs": [],
   "source": [
    "# Pairing Heap"
   ]
  }
 ],
 "metadata": {
  "kernelspec": {
   "display_name": "Python 3.7.7 64-bit ('fsdl': conda)",
   "language": "python",
   "name": "python37764bitfsdlconda42a39a0a76c6472e9e0fb574b9bfa83d"
  },
  "language_info": {
   "codemirror_mode": {
    "name": "ipython",
    "version": 3
   },
   "file_extension": ".py",
   "mimetype": "text/x-python",
   "name": "python",
   "nbconvert_exporter": "python",
   "pygments_lexer": "ipython3",
   "version": "3.7.7"
  }
 },
 "nbformat": 4,
 "nbformat_minor": 2
}
